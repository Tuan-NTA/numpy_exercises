{
  "cells": [
    {
      "cell_type": "markdown",
      "metadata": {
        "id": "view-in-github",
        "colab_type": "text"
      },
      "source": [
        "<a href=\"https://colab.research.google.com/github/Tuan-NTA/numpy_exercises/blob/master/12_Sorting_searching_and_counting.ipynb\" target=\"_parent\"><img src=\"https://colab.research.google.com/assets/colab-badge.svg\" alt=\"Open In Colab\"/></a>"
      ]
    },
    {
      "cell_type": "markdown",
      "metadata": {
        "id": "d40ozj1nUO1B"
      },
      "source": [
        "# Soring, searching, and counting"
      ]
    },
    {
      "cell_type": "code",
      "execution_count": 9,
      "metadata": {
        "id": "5RZBdgSYUO1C"
      },
      "outputs": [],
      "source": [
        "import numpy as np"
      ]
    },
    {
      "cell_type": "code",
      "execution_count": 10,
      "metadata": {
        "id": "miR79Z_GUO1D",
        "outputId": "ad7dabaa-ce68-4524-8187-93965d83c8d9",
        "colab": {
          "base_uri": "https://localhost:8080/",
          "height": 35
        }
      },
      "outputs": [
        {
          "output_type": "execute_result",
          "data": {
            "text/plain": [
              "'1.25.2'"
            ],
            "application/vnd.google.colaboratory.intrinsic+json": {
              "type": "string"
            }
          },
          "metadata": {},
          "execution_count": 10
        }
      ],
      "source": [
        "np.__version__"
      ]
    },
    {
      "cell_type": "code",
      "execution_count": 11,
      "metadata": {
        "collapsed": true,
        "id": "bCyOimyAUO1E"
      },
      "outputs": [],
      "source": [
        "author = 'kyubyong. longinglove@nate.com'"
      ]
    },
    {
      "cell_type": "markdown",
      "metadata": {
        "id": "u0mXnkMEUO1E"
      },
      "source": [
        "## Sorting"
      ]
    },
    {
      "cell_type": "markdown",
      "metadata": {
        "id": "1Et9DMSXUO1E"
      },
      "source": [
        "Q1. Sort x along the second axis."
      ]
    },
    {
      "cell_type": "code",
      "execution_count": 12,
      "metadata": {
        "id": "KmWQaTnAUO1E",
        "outputId": "9a32fe7d-ee3d-4be7-8d8a-51dcf4594fcd",
        "colab": {
          "base_uri": "https://localhost:8080/"
        }
      },
      "outputs": [
        {
          "output_type": "stream",
          "name": "stdout",
          "text": [
            "[[1 4]\n",
            " [1 3]]\n"
          ]
        }
      ],
      "source": [
        "x = np.array([[1,4],[3,1]])\n",
        "out = np.sort(x, axis=1)\n",
        "x.sort(axis=1)\n",
        "assert np.array_equal(out, x)\n",
        "print (out)"
      ]
    },
    {
      "cell_type": "markdown",
      "metadata": {
        "id": "MGRLgY8rUO1E"
      },
      "source": [
        "Q2. Sort pairs of surnames and first names and return their indices. (first by surname, then by name)."
      ]
    },
    {
      "cell_type": "code",
      "execution_count": 13,
      "metadata": {
        "id": "NP781l5OUO1E",
        "outputId": "606b15d1-f470-43ce-ba74-f46e47a947f1",
        "colab": {
          "base_uri": "https://localhost:8080/"
        }
      },
      "outputs": [
        {
          "output_type": "stream",
          "name": "stdout",
          "text": [
            "[1 2 0]\n"
          ]
        }
      ],
      "source": [
        "surnames =    ('Hertz',    'Galilei', 'Hertz')\n",
        "first_names = ('Heinrich', 'Galileo', 'Gustav')\n",
        "print (np.lexsort((first_names, surnames)))"
      ]
    },
    {
      "cell_type": "markdown",
      "metadata": {
        "id": "ZYX_0-g5UO1E"
      },
      "source": [
        "Q3. Get the indices that would sort x along the second axis."
      ]
    },
    {
      "cell_type": "code",
      "execution_count": 14,
      "metadata": {
        "id": "v8RoX0vgUO1E",
        "outputId": "5a4a6a26-f462-4442-d062-249ad05ac966",
        "colab": {
          "base_uri": "https://localhost:8080/"
        }
      },
      "outputs": [
        {
          "output_type": "stream",
          "name": "stdout",
          "text": [
            "[[0 1]\n",
            " [1 0]]\n"
          ]
        }
      ],
      "source": [
        "x = np.array([[1,4],[3,1]])\n",
        "out = np.argsort(x, axis=1)\n",
        "print (out)"
      ]
    },
    {
      "cell_type": "markdown",
      "metadata": {
        "id": "OyKb0aomUO1F"
      },
      "source": [
        "Q4. Create an array such that its fifth element would be the same as the element of sorted x, and it divide other elements by their value."
      ]
    },
    {
      "cell_type": "code",
      "execution_count": 15,
      "metadata": {
        "id": "ZQoeKKftUO1F",
        "outputId": "ca41f57f-209f-496f-88ef-47fc9b92ddfb",
        "colab": {
          "base_uri": "https://localhost:8080/"
        }
      },
      "outputs": [
        {
          "output_type": "stream",
          "name": "stdout",
          "text": [
            "x = [8 0 2 6 4 9 3 5 7 1]\n",
            "\n",
            "Check the fifth element of this new array is 5, the first four elements are all smaller than 5, and 6th through the end are bigger than 5\n",
            "\n",
            "[0 1 2 3 4 5 6 7 8 9]\n"
          ]
        }
      ],
      "source": [
        "x = np.random.permutation(10)\n",
        "print (\"x =\", x)\n",
        "print (\"\\nCheck the fifth element of this new array is 5, the first four elements are all smaller than 5, and 6th through the end are bigger than 5\\n\")\n",
        "out = np.partition(x, 5)\n",
        "x.partition(5) # in-place equivalent\n",
        "assert np.array_equal(x, out)\n",
        "print (out)\n"
      ]
    },
    {
      "cell_type": "markdown",
      "metadata": {
        "id": "HXu91CQEUO1F"
      },
      "source": [
        "Q5. Create the indices of an array such that its third element would be the same as the element of sorted x, and it divide other elements by their value."
      ]
    },
    {
      "cell_type": "code",
      "execution_count": 16,
      "metadata": {
        "id": "zJy7giZ8UO1F",
        "outputId": "19ba1067-b491-4a9c-dcac-d418eee06245",
        "colab": {
          "base_uri": "https://localhost:8080/"
        }
      },
      "outputs": [
        {
          "output_type": "stream",
          "name": "stdout",
          "text": [
            "x = [8 1 4 9 0 3 2 5 7 6]\n",
            "partitioned = [1 2 0 3 5 4 6 9 7 8]\n",
            "indices = [1 2 0 3 5 4 6 9 7 8]\n"
          ]
        }
      ],
      "source": [
        "x = np.random.permutation(10)\n",
        "print (\"x =\", x)\n",
        "partitioned = np.partition(x, 3)\n",
        "indices = np.argpartition(x, 3)\n",
        "print (\"partitioned =\", partitioned)\n",
        "print (\"indices =\", partitioned)\n",
        "assert np.array_equiv(x[indices], partitioned)"
      ]
    },
    {
      "cell_type": "markdown",
      "metadata": {
        "id": "xBoIeHcqUO1F"
      },
      "source": [
        "## Searching"
      ]
    },
    {
      "cell_type": "markdown",
      "metadata": {
        "id": "-N81qZP4UO1F"
      },
      "source": [
        "Q6. Get the maximum and minimum values and their indices of x along the second axis."
      ]
    },
    {
      "cell_type": "code",
      "execution_count": 17,
      "metadata": {
        "id": "qi8fIo3DUO1F",
        "outputId": "3a1f9543-8a03-4cec-cc96-b4ebc0215257",
        "colab": {
          "base_uri": "https://localhost:8080/"
        }
      },
      "outputs": [
        {
          "output_type": "stream",
          "name": "stdout",
          "text": [
            "x = [[4 1 3 5 7]\n",
            " [6 8 0 9 2]]\n",
            "maximum values = [7 9]\n",
            "max indices = [4 3]\n",
            "minimum values = [1 0]\n",
            "min indices = [1 2]\n"
          ]
        }
      ],
      "source": [
        "x = np.random.permutation(10).reshape(2, 5)\n",
        "print (\"x =\", x)\n",
        "print (\"maximum values =\", np.max(x, 1))\n",
        "print (\"max indices =\", np.argmax(x, 1))\n",
        "print (\"minimum values =\", np.min(x, 1))\n",
        "print (\"min indices =\", np.argmin(x, 1))\n"
      ]
    },
    {
      "cell_type": "markdown",
      "metadata": {
        "id": "vA5ewD44UO1F"
      },
      "source": [
        "Q7. Get the maximum and minimum values and their indices of x along the second axis, ignoring NaNs."
      ]
    },
    {
      "cell_type": "code",
      "execution_count": 18,
      "metadata": {
        "id": "C5nSbXnKUO1F",
        "outputId": "088bdc38-d492-4f1f-eda7-984c11a5b618",
        "colab": {
          "base_uri": "https://localhost:8080/"
        }
      },
      "outputs": [
        {
          "output_type": "stream",
          "name": "stdout",
          "text": [
            "maximum values ignoring NaNs = [4. 3.]\n",
            "max indices = [1 0]\n",
            "minimum values ignoring NaNs = [4. 2.]\n",
            "min indices = [1 1]\n"
          ]
        }
      ],
      "source": [
        "x = np.array([[np.nan, 4], [3, 2]])\n",
        "print (\"maximum values ignoring NaNs =\", np.nanmax(x, 1))\n",
        "print (\"max indices =\", np.nanargmax(x, 1))\n",
        "print (\"minimum values ignoring NaNs =\", np.nanmin(x, 1))\n",
        "print (\"min indices =\", np.nanargmin(x, 1))"
      ]
    },
    {
      "cell_type": "markdown",
      "metadata": {
        "id": "Ydj_yENFUO1F"
      },
      "source": [
        "Q8. Get the values and indices of the elements that are bigger than 2 in x.\n"
      ]
    },
    {
      "cell_type": "code",
      "execution_count": 19,
      "metadata": {
        "id": "j6dL4g3EUO1F",
        "outputId": "f08eea4f-6c31-42e0-bafa-eff2d1100906",
        "colab": {
          "base_uri": "https://localhost:8080/"
        }
      },
      "outputs": [
        {
          "output_type": "stream",
          "name": "stdout",
          "text": [
            "Values bigger than 2 = [3 3 5]\n",
            "Their indices are  (array([0, 1, 1]), array([2, 1, 2]))\n"
          ]
        }
      ],
      "source": [
        "x = np.array([[1, 2, 3], [1, 3, 5]])\n",
        "print (\"Values bigger than 2 =\", x[x>2])\n",
        "print (\"Their indices are \", np.nonzero(x > 2))\n",
        "assert np.array_equiv(x[x>2], x[np.nonzero(x > 2)])\n",
        "assert np.array_equiv(x[x>2], np.extract(x > 2, x))"
      ]
    },
    {
      "cell_type": "markdown",
      "metadata": {
        "id": "1klOlA0CUO1G"
      },
      "source": [
        "Q9. Get the indices of the elements that are bigger than 2 in the flattend x."
      ]
    },
    {
      "cell_type": "code",
      "execution_count": 20,
      "metadata": {
        "scrolled": true,
        "id": "_l9pNH-tUO1G",
        "outputId": "26dc41fe-3b35-4115-f96a-993b512ef927",
        "colab": {
          "base_uri": "https://localhost:8080/"
        }
      },
      "outputs": [
        {
          "output_type": "stream",
          "name": "stdout",
          "text": [
            "[2 4 5]\n"
          ]
        }
      ],
      "source": [
        "x = np.array([[1, 2, 3], [1, 3, 5]])\n",
        "print (np.flatnonzero(x>2))\n",
        "assert np.array_equiv(np.flatnonzero(x), x.ravel().nonzero())"
      ]
    },
    {
      "cell_type": "markdown",
      "metadata": {
        "id": "5g1tUU71UO1G"
      },
      "source": [
        "Q10. Check the elements of x and return 0 if it is less than 0, otherwise the element itself."
      ]
    },
    {
      "cell_type": "code",
      "execution_count": 21,
      "metadata": {
        "id": "sc95qheEUO1G",
        "outputId": "f8ae5346-df48-4983-8871-1d01684554cf",
        "colab": {
          "base_uri": "https://localhost:8080/"
        }
      },
      "outputs": [
        {
          "output_type": "stream",
          "name": "stdout",
          "text": [
            "[[0 0 0]\n",
            " [0 0 0]\n",
            " [1 2 3]]\n"
          ]
        }
      ],
      "source": [
        "x = np.arange(-5, 4).reshape(3, 3)\n",
        "print (np.where(x <0, 0, x))"
      ]
    },
    {
      "cell_type": "markdown",
      "metadata": {
        "id": "0ZWwG-LaUO1G"
      },
      "source": [
        "Q11. Get the indices where elements of y should be inserted to x to maintain order."
      ]
    },
    {
      "cell_type": "code",
      "execution_count": 22,
      "metadata": {
        "id": "bukmJRHKUO1G",
        "outputId": "d13ddc0e-381f-4412-c07e-388ffe8b7172",
        "colab": {
          "base_uri": "https://localhost:8080/"
        }
      },
      "outputs": [
        {
          "output_type": "execute_result",
          "data": {
            "text/plain": [
              "array([0, 2, 1, 3])"
            ]
          },
          "metadata": {},
          "execution_count": 22
        }
      ],
      "source": [
        "x = [1, 3, 5, 7, 9]\n",
        "y = [0, 4, 2, 6]\n",
        "np.searchsorted(x, y)"
      ]
    },
    {
      "cell_type": "markdown",
      "metadata": {
        "id": "HroFrh6BUO1G"
      },
      "source": [
        "## Counting"
      ]
    },
    {
      "cell_type": "markdown",
      "metadata": {
        "id": "5gKmeyw0UO1G"
      },
      "source": [
        "Q12. Get the number of nonzero elements in x."
      ]
    },
    {
      "cell_type": "code",
      "execution_count": 23,
      "metadata": {
        "id": "2xPjEAauUO1G",
        "outputId": "cf451ff0-8e42-4790-e59b-b0af1d863404",
        "colab": {
          "base_uri": "https://localhost:8080/"
        }
      },
      "outputs": [
        {
          "output_type": "stream",
          "name": "stdout",
          "text": [
            "5\n"
          ]
        }
      ],
      "source": [
        "x = [[0,1,7,0,0],[3,0,0,2,19]]\n",
        "print (np.count_nonzero(x))\n",
        "assert np.count_nonzero(x) == len(x[x!=0])"
      ]
    },
    {
      "cell_type": "code",
      "execution_count": 23,
      "metadata": {
        "collapsed": true,
        "id": "vB98uHFxUO1G"
      },
      "outputs": [],
      "source": []
    }
  ],
  "metadata": {
    "kernelspec": {
      "display_name": "Python 3",
      "language": "python",
      "name": "python3"
    },
    "language_info": {
      "codemirror_mode": {
        "name": "ipython",
        "version": 3
      },
      "file_extension": ".py",
      "mimetype": "text/x-python",
      "name": "python",
      "nbconvert_exporter": "python",
      "pygments_lexer": "ipython3",
      "version": "3.5.2"
    },
    "colab": {
      "provenance": [],
      "include_colab_link": true
    }
  },
  "nbformat": 4,
  "nbformat_minor": 0
}