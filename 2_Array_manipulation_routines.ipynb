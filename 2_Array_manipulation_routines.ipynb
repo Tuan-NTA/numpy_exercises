{
  "cells": [
    {
      "cell_type": "markdown",
      "metadata": {
        "id": "view-in-github",
        "colab_type": "text"
      },
      "source": [
        "<a href=\"https://colab.research.google.com/github/Tuan-NTA/numpy_exercises/blob/master/2_Array_manipulation_routines.ipynb\" target=\"_parent\"><img src=\"https://colab.research.google.com/assets/colab-badge.svg\" alt=\"Open In Colab\"/></a>"
      ]
    },
    {
      "cell_type": "markdown",
      "metadata": {
        "id": "FeCSvzn7yLdm"
      },
      "source": [
        "# Array manipulation routines"
      ]
    },
    {
      "cell_type": "code",
      "execution_count": 1,
      "metadata": {
        "collapsed": true,
        "id": "-X96ykV3yLdn"
      },
      "outputs": [],
      "source": [
        "import numpy as np"
      ]
    },
    {
      "cell_type": "code",
      "execution_count": 2,
      "metadata": {
        "id": "53iPhefjyLdo",
        "outputId": "7911cab9-1a27-4068-a0e3-ef74f22a5ee2",
        "colab": {
          "base_uri": "https://localhost:8080/",
          "height": 35
        }
      },
      "outputs": [
        {
          "output_type": "execute_result",
          "data": {
            "text/plain": [
              "'1.25.2'"
            ],
            "application/vnd.google.colaboratory.intrinsic+json": {
              "type": "string"
            }
          },
          "metadata": {},
          "execution_count": 2
        }
      ],
      "source": [
        "np.__version__"
      ]
    },
    {
      "cell_type": "markdown",
      "metadata": {
        "collapsed": true,
        "id": "Zy7UoA_CyLdp"
      },
      "source": [
        "Q1. Let x be a ndarray [10, 10, 3] with all elements set to one. Reshape x so that the size of the second dimension equals 150."
      ]
    },
    {
      "cell_type": "code",
      "execution_count": 3,
      "metadata": {
        "id": "2fpIMT5SyLdp",
        "outputId": "000dedbd-4244-4c36-d01a-0444e8bd83a1",
        "colab": {
          "base_uri": "https://localhost:8080/"
        }
      },
      "outputs": [
        {
          "output_type": "stream",
          "name": "stdout",
          "text": [
            "[[1. 1. 1. 1. 1. 1. 1. 1. 1. 1. 1. 1. 1. 1. 1. 1. 1. 1. 1. 1. 1. 1. 1. 1.\n",
            "  1. 1. 1. 1. 1. 1. 1. 1. 1. 1. 1. 1. 1. 1. 1. 1. 1. 1. 1. 1. 1. 1. 1. 1.\n",
            "  1. 1. 1. 1. 1. 1. 1. 1. 1. 1. 1. 1. 1. 1. 1. 1. 1. 1. 1. 1. 1. 1. 1. 1.\n",
            "  1. 1. 1. 1. 1. 1. 1. 1. 1. 1. 1. 1. 1. 1. 1. 1. 1. 1. 1. 1. 1. 1. 1. 1.\n",
            "  1. 1. 1. 1. 1. 1. 1. 1. 1. 1. 1. 1. 1. 1. 1. 1. 1. 1. 1. 1. 1. 1. 1. 1.\n",
            "  1. 1. 1. 1. 1. 1. 1. 1. 1. 1. 1. 1. 1. 1. 1. 1. 1. 1. 1. 1. 1. 1. 1. 1.\n",
            "  1. 1. 1. 1. 1. 1.]\n",
            " [1. 1. 1. 1. 1. 1. 1. 1. 1. 1. 1. 1. 1. 1. 1. 1. 1. 1. 1. 1. 1. 1. 1. 1.\n",
            "  1. 1. 1. 1. 1. 1. 1. 1. 1. 1. 1. 1. 1. 1. 1. 1. 1. 1. 1. 1. 1. 1. 1. 1.\n",
            "  1. 1. 1. 1. 1. 1. 1. 1. 1. 1. 1. 1. 1. 1. 1. 1. 1. 1. 1. 1. 1. 1. 1. 1.\n",
            "  1. 1. 1. 1. 1. 1. 1. 1. 1. 1. 1. 1. 1. 1. 1. 1. 1. 1. 1. 1. 1. 1. 1. 1.\n",
            "  1. 1. 1. 1. 1. 1. 1. 1. 1. 1. 1. 1. 1. 1. 1. 1. 1. 1. 1. 1. 1. 1. 1. 1.\n",
            "  1. 1. 1. 1. 1. 1. 1. 1. 1. 1. 1. 1. 1. 1. 1. 1. 1. 1. 1. 1. 1. 1. 1. 1.\n",
            "  1. 1. 1. 1. 1. 1.]]\n"
          ]
        }
      ],
      "source": [
        "x = np.ones([10, 10, 3])\n",
        "out = np.reshape(x, [-1, 150])\n",
        "print (out)\n",
        "assert np.allclose(out, np.ones([10, 10, 3]).reshape([-1, 150]))"
      ]
    },
    {
      "cell_type": "markdown",
      "metadata": {
        "id": "b4KrOPRvyLdp"
      },
      "source": [
        "Q2. Let x be array [[1, 2, 3], [4, 5, 6]]. Convert it to [1 4 2 5 3 6]."
      ]
    },
    {
      "cell_type": "code",
      "execution_count": 4,
      "metadata": {
        "id": "mp9cPSiEyLdq",
        "outputId": "e739f8cc-be80-4451-cf0b-4aff15b1945d",
        "colab": {
          "base_uri": "https://localhost:8080/"
        }
      },
      "outputs": [
        {
          "output_type": "stream",
          "name": "stdout",
          "text": [
            "[1 4 2 5 3 6]\n"
          ]
        }
      ],
      "source": [
        "x = np.array([[1, 2, 3], [4, 5, 6]])\n",
        "out1 = np.ravel(x, order='F')\n",
        "out2 = x.flatten(order=\"F\")\n",
        "assert np.allclose(out1, out2)\n",
        "print (out1)\n"
      ]
    },
    {
      "cell_type": "markdown",
      "metadata": {
        "id": "cFNwUvCByLdq"
      },
      "source": [
        "Q3. Let x be array [[1, 2, 3], [4, 5, 6]]. Get the 5th element."
      ]
    },
    {
      "cell_type": "code",
      "execution_count": 5,
      "metadata": {
        "id": "THZIM1khyLdq",
        "outputId": "c4b70f96-67c1-4056-9160-61d30531d482",
        "colab": {
          "base_uri": "https://localhost:8080/"
        }
      },
      "outputs": [
        {
          "output_type": "stream",
          "name": "stdout",
          "text": [
            "5\n"
          ]
        }
      ],
      "source": [
        "x = np.array([[1, 2, 3], [4, 5, 6]])\n",
        "out1 = x.flat[4]\n",
        "out2 = np.ravel(x)[4]\n",
        "assert np.allclose(out1, out2)\n",
        "print (out1)\n"
      ]
    },
    {
      "cell_type": "markdown",
      "metadata": {
        "id": "NuebMeLQyLdq"
      },
      "source": [
        "Q4. Let x be an arbitrary 3-D array of shape (3, 4, 5). Permute the dimensions of x such that the new shape will be (4,3,5).\n"
      ]
    },
    {
      "cell_type": "code",
      "execution_count": 6,
      "metadata": {
        "id": "goI2ZWxNyLdr",
        "outputId": "17c0acf9-1b59-4f95-c053-a4396f7bc52a",
        "colab": {
          "base_uri": "https://localhost:8080/"
        }
      },
      "outputs": [
        {
          "output_type": "stream",
          "name": "stdout",
          "text": [
            "(4, 3, 5)\n"
          ]
        }
      ],
      "source": [
        "x = np.zeros((3, 4, 5))\n",
        "out1 = np.swapaxes(x, 1, 0)\n",
        "out2 = x.transpose([1, 0, 2])\n",
        "assert out1.shape == out2.shape\n",
        "print (out1.shape)"
      ]
    },
    {
      "cell_type": "markdown",
      "metadata": {
        "id": "Og_a0d6myLdr"
      },
      "source": [
        "Q5. Let x be an arbitrary 2-D array of shape (3, 4). Permute the dimensions of x such that the new shape will be (4,3)."
      ]
    },
    {
      "cell_type": "code",
      "execution_count": 7,
      "metadata": {
        "id": "HdGDLSYiyLdr",
        "outputId": "7d3e0c45-26bd-473c-8372-293dd68eedb7",
        "colab": {
          "base_uri": "https://localhost:8080/"
        }
      },
      "outputs": [
        {
          "output_type": "stream",
          "name": "stdout",
          "text": [
            "(4, 3)\n"
          ]
        }
      ],
      "source": [
        "x = np.zeros((3, 4))\n",
        "out1 = np.swapaxes(x, 1, 0)\n",
        "out2 = x.transpose()\n",
        "out3 = x.T\n",
        "assert out1.shape == out2.shape == out3.shape\n",
        "print (out1.shape)"
      ]
    },
    {
      "cell_type": "markdown",
      "metadata": {
        "id": "Dt0P-9u3yLdr"
      },
      "source": [
        "Q5. Let x be an arbitrary 2-D array of shape (3, 4). Insert a nex axis such that the new shape will be (3, 1, 4)."
      ]
    },
    {
      "cell_type": "code",
      "execution_count": 8,
      "metadata": {
        "id": "ELkIP5pCyLds",
        "outputId": "722dcfeb-5540-4d42-8d9b-2842e0d882f5",
        "colab": {
          "base_uri": "https://localhost:8080/"
        }
      },
      "outputs": [
        {
          "output_type": "stream",
          "name": "stdout",
          "text": [
            "(3, 1, 4)\n"
          ]
        }
      ],
      "source": [
        "x = np.zeros((3, 4))\n",
        "print (np.expand_dims(x, axis=1).shape)"
      ]
    },
    {
      "cell_type": "markdown",
      "metadata": {
        "id": "NjTSGEBRyLds"
      },
      "source": [
        "Q6. Let x be an arbitrary 3-D array of shape (3, 4, 1). Remove a single-dimensional entries such that the new shape will be (3, 4)."
      ]
    },
    {
      "cell_type": "code",
      "execution_count": 9,
      "metadata": {
        "id": "An2wbjjUyLds",
        "outputId": "95806de5-f643-4ebd-bb89-a5b1bba5ba94",
        "colab": {
          "base_uri": "https://localhost:8080/"
        }
      },
      "outputs": [
        {
          "output_type": "stream",
          "name": "stdout",
          "text": [
            "(3, 4)\n"
          ]
        }
      ],
      "source": [
        "x = np.zeros((3, 4, 1))\n",
        "print (np.squeeze(x).shape)"
      ]
    },
    {
      "cell_type": "markdown",
      "metadata": {
        "id": "4oXZdOOcyLds"
      },
      "source": [
        "Q7. Lex x be an array <br/>\n",
        "[[ 1 2 3]<br/>\n",
        "[ 4 5 6].<br/><br/>\n",
        "and y be an array <br/>\n",
        "[[ 7 8 9]<br/>\n",
        "[10 11 12]].<br/>\n",
        "Concatenate x and y so that a new array looks like <br/>[[1, 2, 3, 7, 8, 9], <br/>[4, 5, 6, 10, 11, 12]].\n"
      ]
    },
    {
      "cell_type": "code",
      "execution_count": 10,
      "metadata": {
        "id": "CZqmneq6yLds",
        "outputId": "614cc9eb-8026-4601-d57e-6ecd51b6f20c",
        "colab": {
          "base_uri": "https://localhost:8080/"
        }
      },
      "outputs": [
        {
          "output_type": "stream",
          "name": "stdout",
          "text": [
            "[[ 1  2  3  7  8  9]\n",
            " [ 4  5  6 10 11 12]]\n"
          ]
        }
      ],
      "source": [
        "x = np.array([[1, 2, 3], [4, 5, 6]])\n",
        "y = np.array([[7, 8, 9], [10, 11, 12]])\n",
        "out1 = np.concatenate((x, y), 1)\n",
        "out2 = np.hstack((x, y))\n",
        "assert np.allclose(out1, out2)\n",
        "print (out2)"
      ]
    },
    {
      "cell_type": "markdown",
      "metadata": {
        "id": "gSKH6bQkyLdt"
      },
      "source": [
        "Q8. Lex x be an array <br/>\n",
        "[[ 1 2 3]<br/>\n",
        "[ 4 5 6].<br/><br/>\n",
        "and y be an array <br/>\n",
        "[[ 7 8 9]<br/>\n",
        "[10 11 12]].<br/>\n",
        "Concatenate x and y so that a new array looks like <br/>[[ 1  2  3]<br/>\n",
        " [ 4  5  6]<br/>\n",
        " [ 7  8  9]<br/>\n",
        " [10 11 12]]\n"
      ]
    },
    {
      "cell_type": "code",
      "execution_count": 11,
      "metadata": {
        "id": "yDgRO4IPyLdt",
        "outputId": "b86d2472-63a4-486c-d5cd-0e605ead932f",
        "colab": {
          "base_uri": "https://localhost:8080/"
        }
      },
      "outputs": [
        {
          "output_type": "stream",
          "name": "stdout",
          "text": [
            "[[ 1  2  3]\n",
            " [ 4  5  6]\n",
            " [ 7  8  9]\n",
            " [10 11 12]]\n"
          ]
        }
      ],
      "source": [
        "x = np.array([[1, 2, 3], [4, 5, 6]])\n",
        "y = np.array([[7, 8, 9], [10, 11, 12]])\n",
        "out1 = np.concatenate((x, y), 0)\n",
        "out2 = np.vstack((x, y))\n",
        "assert np.allclose(out1, out2)\n",
        "print (out2)"
      ]
    },
    {
      "cell_type": "markdown",
      "metadata": {
        "id": "9AaOsEWzyLdt"
      },
      "source": [
        "Q8. Let x be an array [1 2 3] and y be [4 5 6]. Convert it to [[1, 4], [2, 5], [3, 6]]."
      ]
    },
    {
      "cell_type": "code",
      "execution_count": 12,
      "metadata": {
        "id": "2nf6dYi2yLdt",
        "outputId": "80897d83-77ff-4bc5-b3c8-4e1e71e02599",
        "colab": {
          "base_uri": "https://localhost:8080/"
        }
      },
      "outputs": [
        {
          "output_type": "stream",
          "name": "stdout",
          "text": [
            "[[1 4]\n",
            " [2 5]\n",
            " [3 6]]\n"
          ]
        }
      ],
      "source": [
        "x = np.array((1,2,3))\n",
        "y = np.array((4,5,6))\n",
        "out1 = np.column_stack((x, y))\n",
        "out2 = np.squeeze(np.dstack((x, y)))\n",
        "out3 = np.vstack((x, y)).T\n",
        "assert np.allclose(out1, out2)\n",
        "assert np.allclose(out2, out3)\n",
        "print (out1)\n"
      ]
    },
    {
      "cell_type": "markdown",
      "metadata": {
        "id": "XmQ-SP01yLdt"
      },
      "source": [
        "Q9. Let x be an array [[1],[2],[3]] and y be [[4], [5], [6]]. Convert x to [[[1, 4]], [[2, 5]], [[3, 6]]]."
      ]
    },
    {
      "cell_type": "code",
      "execution_count": 13,
      "metadata": {
        "id": "hCm22Ut_yLdu",
        "outputId": "a9b7e842-f0ab-4db4-a100-e3a797a82dde",
        "colab": {
          "base_uri": "https://localhost:8080/"
        }
      },
      "outputs": [
        {
          "output_type": "stream",
          "name": "stdout",
          "text": [
            "[[[1 4]]\n",
            "\n",
            " [[2 5]]\n",
            "\n",
            " [[3 6]]]\n"
          ]
        }
      ],
      "source": [
        "x = np.array([[1],[2],[3]])\n",
        "y = np.array([[4],[5],[6]])\n",
        "out = np.dstack((x, y))\n",
        "print (out)\n"
      ]
    },
    {
      "cell_type": "markdown",
      "metadata": {
        "id": "Q2jNdblGyLdu"
      },
      "source": [
        "Q10. Let x be an array [1, 2, 3, ..., 9]. Split x into 3 arrays, each of which has 4, 2, and 3 elements in the original order."
      ]
    },
    {
      "cell_type": "code",
      "execution_count": 14,
      "metadata": {
        "id": "ityFiwBZyLdu",
        "outputId": "7e389434-ec36-44d9-ef50-cb5f83cbd0f1",
        "colab": {
          "base_uri": "https://localhost:8080/"
        }
      },
      "outputs": [
        {
          "output_type": "stream",
          "name": "stdout",
          "text": [
            "[array([1, 2, 3, 4]), array([5, 6]), array([7, 8, 9])]\n"
          ]
        }
      ],
      "source": [
        "x = np.arange(1, 10)\n",
        "print (np.split(x, [4, 6]))"
      ]
    },
    {
      "cell_type": "markdown",
      "metadata": {
        "id": "pAUC8PFAyLdu"
      },
      "source": [
        "Q11. Let x be an array<br/>\n",
        "[[[  0.,   1.,   2.,   3.],<br/>\n",
        "  [  4.,   5.,   6.,   7.]],<br/>\n",
        "\n",
        " [[  8.,   9.,  10.,  11.],<br/>\n",
        "  [ 12.,  13.,  14.,  15.]]].<br/>\n",
        "Split it into two such that the first array looks like<br/>\n",
        "[[[  0.,   1.,   2.],<br/>\n",
        "  [  4.,   5.,   6.]],<br/>\n",
        "\n",
        " [[  8.,   9.,  10.],<br/>\n",
        "  [ 12.,  13.,  14.]]].<br/>\n",
        "  \n",
        "and the second one look like:<br/>\n",
        "  \n",
        "[[[  3.],<br/>\n",
        "  [  7.]],<br/>\n",
        "\n",
        " [[  11.],<br/>\n",
        "  [ 15.]]].<br/>  "
      ]
    },
    {
      "cell_type": "code",
      "execution_count": 15,
      "metadata": {
        "id": "bjw_05ITyLdu",
        "outputId": "69574982-da83-430b-844f-85f957a23af8",
        "colab": {
          "base_uri": "https://localhost:8080/"
        }
      },
      "outputs": [
        {
          "output_type": "stream",
          "name": "stdout",
          "text": [
            "[array([[[ 0,  1,  2],\n",
            "        [ 4,  5,  6]],\n",
            "\n",
            "       [[ 8,  9, 10],\n",
            "        [12, 13, 14]]]), array([[[ 3],\n",
            "        [ 7]],\n",
            "\n",
            "       [[11],\n",
            "        [15]]])]\n"
          ]
        }
      ],
      "source": [
        "x = np.arange(16).reshape(2, 2, 4)\n",
        "out1 = np.split(x, [3],axis=2)\n",
        "out2 = np.dsplit(x, [3])\n",
        "assert np.allclose(out1[0], out2[0])\n",
        "assert np.allclose(out1[1], out2[1])\n",
        "print (out1)\n"
      ]
    },
    {
      "cell_type": "markdown",
      "metadata": {
        "id": "Ai0YM6umyLdu"
      },
      "source": [
        "Q12. Let x be an array <br />\n",
        "[[  0.,   1.,   2.,   3.],<br>\n",
        " [  4.,   5.,   6.,   7.],<br>\n",
        " [  8.,   9.,  10.,  11.],<br>\n",
        " [ 12.,  13.,  14.,  15.]].<br>\n",
        "Split it into two arrays along the second axis."
      ]
    },
    {
      "cell_type": "code",
      "execution_count": 16,
      "metadata": {
        "id": "1WVXzXUIyLdu",
        "outputId": "28a67b84-62a6-425d-edf8-0564dcc9c32a",
        "colab": {
          "base_uri": "https://localhost:8080/"
        }
      },
      "outputs": [
        {
          "output_type": "stream",
          "name": "stdout",
          "text": [
            "[array([[ 0,  1],\n",
            "       [ 4,  5],\n",
            "       [ 8,  9],\n",
            "       [12, 13]]), array([[ 2,  3],\n",
            "       [ 6,  7],\n",
            "       [10, 11],\n",
            "       [14, 15]])]\n"
          ]
        }
      ],
      "source": [
        "x = np.arange(16).reshape((4, 4))\n",
        "out1 = np.hsplit(x, 2)\n",
        "out2 = np.split(x, 2, 1)\n",
        "assert np.allclose(out1[0], out2[0])\n",
        "assert np.allclose(out1[1], out2[1])\n",
        "print (out1)"
      ]
    },
    {
      "cell_type": "markdown",
      "metadata": {
        "id": "nx4dR4F8yLdv"
      },
      "source": [
        "Q13. Let x be an array <br />\n",
        "[[  0.,   1.,   2.,   3.],<br>\n",
        " [  4.,   5.,   6.,   7.],<br>\n",
        " [  8.,   9.,  10.,  11.],<br>\n",
        " [ 12.,  13.,  14.,  15.]].<br>\n",
        "Split it into two arrays along the first axis."
      ]
    },
    {
      "cell_type": "code",
      "execution_count": 17,
      "metadata": {
        "id": "Q5NEvUALyLdv",
        "outputId": "5c7e686d-2e5b-4283-dfee-930c91a07352",
        "colab": {
          "base_uri": "https://localhost:8080/"
        }
      },
      "outputs": [
        {
          "output_type": "stream",
          "name": "stdout",
          "text": [
            "[array([[0, 1, 2, 3],\n",
            "       [4, 5, 6, 7]]), array([[ 8,  9, 10, 11],\n",
            "       [12, 13, 14, 15]])]\n"
          ]
        }
      ],
      "source": [
        "x = np.arange(16).reshape((4, 4))\n",
        "out1 = np.vsplit(x, 2)\n",
        "out2 = np.split(x, 2, 0)\n",
        "assert np.allclose(out1[0], out2[0])\n",
        "assert np.allclose(out1[1], out2[1])\n",
        "print (out1)"
      ]
    },
    {
      "cell_type": "markdown",
      "metadata": {
        "id": "Mc2qzQSdyLdv"
      },
      "source": [
        "Q14. Let x be an array [0, 1, 2]. Convert it to <br/>\n",
        "[[0, 1, 2, 0, 1, 2],<br/>\n",
        " [0, 1, 2, 0, 1, 2]]."
      ]
    },
    {
      "cell_type": "code",
      "execution_count": 18,
      "metadata": {
        "id": "4RH_svYWyLdv",
        "outputId": "aaf95c15-39aa-43a0-de10-03024a8f47ca",
        "colab": {
          "base_uri": "https://localhost:8080/"
        }
      },
      "outputs": [
        {
          "output_type": "stream",
          "name": "stdout",
          "text": [
            "[[0 1 2 0 1 2]\n",
            " [0 1 2 0 1 2]]\n"
          ]
        }
      ],
      "source": [
        "x = np.array([0, 1, 2])\n",
        "out1 = np.tile(x, [2, 2])\n",
        "out2 = np.resize(x, [2, 6])\n",
        "assert np.allclose(out1, out2)\n",
        "print (out1)"
      ]
    },
    {
      "cell_type": "markdown",
      "metadata": {
        "id": "LpEpNO2OyLdv"
      },
      "source": [
        "Q15. Let x be an array [0, 1, 2]. Convert it to <br/>\n",
        "[0, 0, 1, 1, 2, 2]."
      ]
    },
    {
      "cell_type": "code",
      "execution_count": 19,
      "metadata": {
        "id": "fepjs25zyLdw",
        "outputId": "2b884a20-cd48-4031-8623-c943966df656",
        "colab": {
          "base_uri": "https://localhost:8080/"
        }
      },
      "outputs": [
        {
          "output_type": "stream",
          "name": "stdout",
          "text": [
            "[0 0 1 1 2 2]\n"
          ]
        }
      ],
      "source": [
        "x = np.array([0, 1, 2])\n",
        "print (np.repeat(x, 2))"
      ]
    },
    {
      "cell_type": "markdown",
      "metadata": {
        "id": "X__2KBi7yLdw"
      },
      "source": [
        "Q16. Let x be an array [0, 0, 0, 1, 2, 3, 0, 2, 1, 0].<br/>\n",
        "remove the leading the trailing zeros."
      ]
    },
    {
      "cell_type": "code",
      "execution_count": 20,
      "metadata": {
        "id": "nZkAIy0yyLdw",
        "outputId": "7c0428bf-e35e-4395-c089-4071cfa2344f",
        "colab": {
          "base_uri": "https://localhost:8080/"
        }
      },
      "outputs": [
        {
          "output_type": "stream",
          "name": "stdout",
          "text": [
            "[1 2 3 0 2 1]\n"
          ]
        }
      ],
      "source": [
        "x = np.array((0, 0, 0, 1, 2, 3, 0, 2, 1, 0))\n",
        "out = np.trim_zeros(x)\n",
        "print (out)"
      ]
    },
    {
      "cell_type": "markdown",
      "metadata": {
        "id": "ZCla94rIyLd4"
      },
      "source": [
        "Q17. Let x be an array [2, 2, 1, 5, 4, 5, 1, 2, 3]. Get two arrays of unique elements and their counts.\n"
      ]
    },
    {
      "cell_type": "code",
      "execution_count": 21,
      "metadata": {
        "id": "0mjoIo9NyLd4",
        "outputId": "eb275bd5-4fee-4762-90d9-37c07d72fa4d",
        "colab": {
          "base_uri": "https://localhost:8080/"
        }
      },
      "outputs": [
        {
          "output_type": "stream",
          "name": "stdout",
          "text": [
            "[1 2 3 4 5] [2 3 1 1 2]\n"
          ]
        }
      ],
      "source": [
        "x = np.array([2, 2, 1, 5, 4, 5, 1, 2, 3])\n",
        "u, indices = np.unique(x, return_counts=True)\n",
        "print (u, indices)"
      ]
    },
    {
      "cell_type": "markdown",
      "metadata": {
        "id": "qEieNh4lyLd4"
      },
      "source": [
        "Q18. Lex x be an array <br/>\n",
        "[[ 1 2]<br/>\n",
        " [ 3 4].<br/>\n",
        "Flip x along the second axis."
      ]
    },
    {
      "cell_type": "code",
      "execution_count": 22,
      "metadata": {
        "id": "CASD0V35yLd5",
        "outputId": "74530152-a5c1-45ae-8ddd-a27151bcf4c2",
        "colab": {
          "base_uri": "https://localhost:8080/"
        }
      },
      "outputs": [
        {
          "output_type": "stream",
          "name": "stdout",
          "text": [
            "[[2 1]\n",
            " [4 3]]\n"
          ]
        }
      ],
      "source": [
        "x = np.array([[1,2], [3,4]])\n",
        "out1 = np.fliplr(x)\n",
        "out2 = x[:, ::-1]\n",
        "assert np.allclose(out1, out2)\n",
        "print (out1)"
      ]
    },
    {
      "cell_type": "markdown",
      "metadata": {
        "id": "4Eq4gn12yLd5"
      },
      "source": [
        "Q19. Lex x be an array <br/>\n",
        "[[ 1 2]<br/>\n",
        " [ 3 4].<br/>\n",
        "Flip x along the first axis."
      ]
    },
    {
      "cell_type": "code",
      "execution_count": 23,
      "metadata": {
        "id": "Ml5CXwQMyLd5",
        "outputId": "0fb6bc9f-eae7-4e8e-e46e-434565375c9f",
        "colab": {
          "base_uri": "https://localhost:8080/"
        }
      },
      "outputs": [
        {
          "output_type": "stream",
          "name": "stdout",
          "text": [
            "[[3 4]\n",
            " [1 2]]\n"
          ]
        }
      ],
      "source": [
        "x = np.array([[1,2], [3,4]])\n",
        "out1 = np.flipud(x)\n",
        "out2 = x[::-1, :]\n",
        "assert np.allclose(out1, out2)\n",
        "print (out1)"
      ]
    },
    {
      "cell_type": "markdown",
      "metadata": {
        "id": "QugKOBynyLd5"
      },
      "source": [
        "Q20. Lex x be an array <br/>\n",
        "[[ 1 2]<br/>\n",
        " [ 3 4].<br/>\n",
        "Rotate x 90 degrees counter-clockwise."
      ]
    },
    {
      "cell_type": "code",
      "execution_count": 24,
      "metadata": {
        "id": "cu6I4iIcyLd5",
        "outputId": "5c23cf70-6b21-4aa0-f2d8-b56fb4430fb5",
        "colab": {
          "base_uri": "https://localhost:8080/"
        }
      },
      "outputs": [
        {
          "output_type": "stream",
          "name": "stdout",
          "text": [
            "[[2 4]\n",
            " [1 3]]\n"
          ]
        }
      ],
      "source": [
        "x = np.array([[1,2], [3,4]])\n",
        "out = np.rot90(x)\n",
        "print (out)"
      ]
    },
    {
      "cell_type": "markdown",
      "metadata": {
        "id": "s88mZcECyLd5"
      },
      "source": [
        "Q21 Lex x be an array <br/>\n",
        "[[ 1 2 3 4]<br/>\n",
        " [ 5 6 7 8].<br/>\n",
        "Shift elements one step to right along the second axis."
      ]
    },
    {
      "cell_type": "code",
      "execution_count": 25,
      "metadata": {
        "id": "6ZK-MNUmyLd5",
        "outputId": "bfa1f965-6815-4c65-c1a3-385fc9f82d2e",
        "colab": {
          "base_uri": "https://localhost:8080/"
        }
      },
      "outputs": [
        {
          "output_type": "stream",
          "name": "stdout",
          "text": [
            "[[4 1 2 3]\n",
            " [8 5 6 7]]\n"
          ]
        }
      ],
      "source": [
        "x = np.arange(1, 9).reshape([2, 4])\n",
        "print (np.roll(x, 1, axis=1))"
      ]
    },
    {
      "cell_type": "code",
      "execution_count": 25,
      "metadata": {
        "collapsed": true,
        "id": "IjegTkAFyLd6"
      },
      "outputs": [],
      "source": []
    }
  ],
  "metadata": {
    "kernelspec": {
      "display_name": "Python 3",
      "language": "python",
      "name": "python3"
    },
    "language_info": {
      "codemirror_mode": {
        "name": "ipython",
        "version": 3
      },
      "file_extension": ".py",
      "mimetype": "text/x-python",
      "name": "python",
      "nbconvert_exporter": "python",
      "pygments_lexer": "ipython3",
      "version": "3.7.1"
    },
    "colab": {
      "provenance": [],
      "include_colab_link": true
    }
  },
  "nbformat": 4,
  "nbformat_minor": 0
}