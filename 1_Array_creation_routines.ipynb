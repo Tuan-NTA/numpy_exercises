{
  "cells": [
    {
      "cell_type": "markdown",
      "metadata": {
        "id": "dvlhB2LKy_BF"
      },
      "source": [
        "# Array creation routines"
      ]
    },
    {
      "cell_type": "markdown",
      "metadata": {
        "id": "N8I4m0N7y_BL"
      },
      "source": [
        "## Ones and zeros"
      ]
    },
    {
      "cell_type": "code",
      "execution_count": 5,
      "metadata": {
        "collapsed": true,
        "id": "BXmPy-_7y_BM"
      },
      "outputs": [],
      "source": [
        "import numpy as np"
      ]
    },
    {
      "cell_type": "markdown",
      "metadata": {
        "id": "Pqqqhb1Dy_BO"
      },
      "source": [
        "Create a new array of 2*2 integers, without initializing entries."
      ]
    },
    {
      "cell_type": "code",
      "execution_count": 7,
      "metadata": {
        "id": "ZTX4PQUYy_BO",
        "outputId": "ebf7de27-c153-4a33-fc44-0ec528f46896",
        "colab": {
          "base_uri": "https://localhost:8080/"
        }
      },
      "outputs": [
        {
          "output_type": "execute_result",
          "data": {
            "text/plain": [
              "array([[136515942380916,               0],\n",
              "       [              0,               0]])"
            ]
          },
          "metadata": {},
          "execution_count": 7
        }
      ],
      "source": [
        "np.empty([2,2], dtype=int)"
      ]
    },
    {
      "cell_type": "markdown",
      "metadata": {
        "id": "3wiUxZQry_BP"
      },
      "source": [
        "Let X = np.array([1,2,3], [4,5,6], np.int32).\n",
        "Create a new array with the same shape and type as X."
      ]
    },
    {
      "cell_type": "code",
      "execution_count": 10,
      "metadata": {
        "id": "STesb6kzy_BQ",
        "outputId": "0b551094-d447-48d5-8003-8ccf96d6843b",
        "colab": {
          "base_uri": "https://localhost:8080/"
        }
      },
      "outputs": [
        {
          "output_type": "execute_result",
          "data": {
            "text/plain": [
              "array([[-1073784495,       23425,           0],\n",
              "       [          0,         160,           0]], dtype=int32)"
            ]
          },
          "metadata": {},
          "execution_count": 10
        }
      ],
      "source": [
        "X = np.array([[1,2,3], [4,5,6]], np.int32)\n",
        "new_array=np.empty_like(X)\n",
        "new_array"
      ]
    },
    {
      "cell_type": "markdown",
      "metadata": {
        "id": "a5kF3qAgy_BR"
      },
      "source": [
        "Create a 3-D array with ones on the diagonal and zeros elsewhere."
      ]
    },
    {
      "cell_type": "code",
      "execution_count": 15,
      "metadata": {
        "id": "pkCR0vhsy_BS",
        "outputId": "7ef5e0e6-59bb-46aa-c138-cb4f0a6fcf10",
        "colab": {
          "base_uri": "https://localhost:8080/"
        }
      },
      "outputs": [
        {
          "output_type": "execute_result",
          "data": {
            "text/plain": [
              "array([[[1, 0, 0],\n",
              "        [0, 1, 0],\n",
              "        [0, 0, 1]]])"
            ]
          },
          "metadata": {},
          "execution_count": 15
        }
      ],
      "source": [
        "shape = (3, 3, 3)\n",
        "\n",
        "array_3d = np.eye(shape[0], shape[1], dtype=int)[np.newaxis, ...]\n",
        "array_3d"
      ]
    },
    {
      "cell_type": "code",
      "execution_count": 16,
      "metadata": {
        "id": "4gquaUDry_BS",
        "outputId": "0858a82c-1a48-41e7-a60f-9b7ebf555efc",
        "colab": {
          "base_uri": "https://localhost:8080/"
        }
      },
      "outputs": [
        {
          "output_type": "execute_result",
          "data": {
            "text/plain": [
              "array([[[1., 0., 0.],\n",
              "        [0., 1., 0.],\n",
              "        [0., 0., 1.]]])"
            ]
          },
          "metadata": {},
          "execution_count": 16
        }
      ],
      "source": [
        "np.identity(3)[np.newaxis, ...]"
      ]
    },
    {
      "cell_type": "markdown",
      "metadata": {
        "id": "tQqqhnyNy_BS"
      },
      "source": [
        "Create a new array of 3*2 float numbers, filled with ones."
      ]
    },
    {
      "cell_type": "code",
      "execution_count": null,
      "metadata": {
        "id": "hQ8_dumYy_BT",
        "outputId": "8f723200-2342-4555-cf56-96a98c720a98"
      },
      "outputs": [
        {
          "data": {
            "text/plain": [
              "array([[ 1.,  1.],\n",
              "       [ 1.,  1.],\n",
              "       [ 1.,  1.]])"
            ]
          },
          "execution_count": 36,
          "metadata": {},
          "output_type": "execute_result"
        }
      ],
      "source": []
    },
    {
      "cell_type": "markdown",
      "metadata": {
        "id": "vkE3rE3uy_BT"
      },
      "source": [
        "Let x = np.arange(4, dtype=np.int64). Create an array of ones with the same shape and type as X."
      ]
    },
    {
      "cell_type": "code",
      "execution_count": null,
      "metadata": {
        "id": "XoBNICwSy_BT",
        "outputId": "743eca90-74fb-4f18-d025-fc837a1031ee"
      },
      "outputs": [
        {
          "data": {
            "text/plain": [
              "array([1, 1, 1, 1], dtype=int64)"
            ]
          },
          "execution_count": 59,
          "metadata": {},
          "output_type": "execute_result"
        }
      ],
      "source": [
        "x = np.arange(4, dtype=np.int64)\n"
      ]
    },
    {
      "cell_type": "markdown",
      "metadata": {
        "id": "Eub9t13Dy_BU"
      },
      "source": [
        "Create a new array of 3*2 float numbers, filled with zeros."
      ]
    },
    {
      "cell_type": "code",
      "execution_count": null,
      "metadata": {
        "id": "_QfYHBcny_BU",
        "outputId": "f02ecd08-cca1-46ff-e3d8-bfa49991c023"
      },
      "outputs": [
        {
          "data": {
            "text/plain": [
              "array([[ 0.,  0.],\n",
              "       [ 0.,  0.],\n",
              "       [ 0.,  0.]])"
            ]
          },
          "execution_count": 45,
          "metadata": {},
          "output_type": "execute_result"
        }
      ],
      "source": []
    },
    {
      "cell_type": "markdown",
      "metadata": {
        "id": "RXVj4ably_BU"
      },
      "source": [
        "Let x = np.arange(4, dtype=np.int64). Create an array of zeros with the same shape and type as X."
      ]
    },
    {
      "cell_type": "code",
      "execution_count": null,
      "metadata": {
        "id": "Z7mPQhtQy_BV",
        "outputId": "eb11e426-cb6e-4265-e6e4-e1930250aae6"
      },
      "outputs": [
        {
          "data": {
            "text/plain": [
              "array([0, 0, 0, 0], dtype=int64)"
            ]
          },
          "execution_count": 58,
          "metadata": {},
          "output_type": "execute_result"
        }
      ],
      "source": [
        "x = np.arange(4, dtype=np.int64)\n"
      ]
    },
    {
      "cell_type": "markdown",
      "metadata": {
        "id": "NyajqclUy_BV"
      },
      "source": [
        "Create a new array of 2*5 uints, filled with 6."
      ]
    },
    {
      "cell_type": "code",
      "execution_count": null,
      "metadata": {
        "id": "xx_JETRty_BV",
        "outputId": "ab2c298d-825b-4831-9d88-3d4abbe71636"
      },
      "outputs": [
        {
          "data": {
            "text/plain": [
              "array([[6, 6, 6, 6, 6],\n",
              "       [6, 6, 6, 6, 6]], dtype=uint32)"
            ]
          },
          "execution_count": 49,
          "metadata": {},
          "output_type": "execute_result"
        }
      ],
      "source": []
    },
    {
      "cell_type": "markdown",
      "metadata": {
        "id": "yLQnT43ky_BV"
      },
      "source": [
        "Let x = np.arange(4, dtype=np.int64). Create an array of 6's with the same shape and type as X."
      ]
    },
    {
      "cell_type": "code",
      "execution_count": null,
      "metadata": {
        "id": "qwtq_AIhy_BW",
        "outputId": "fb367bb9-5cfc-4959-8cad-dfd0e50428e9"
      },
      "outputs": [
        {
          "data": {
            "text/plain": [
              "array([6, 6, 6, 6], dtype=int64)"
            ]
          },
          "execution_count": 79,
          "metadata": {},
          "output_type": "execute_result"
        }
      ],
      "source": [
        "x = np.arange(4, dtype=np.int64)\n"
      ]
    },
    {
      "cell_type": "markdown",
      "metadata": {
        "id": "33dVjq0hy_BW"
      },
      "source": [
        "## From existing data"
      ]
    },
    {
      "cell_type": "markdown",
      "metadata": {
        "id": "wk2dz4DPy_BW"
      },
      "source": [
        "Create an array of [1, 2, 3]."
      ]
    },
    {
      "cell_type": "code",
      "execution_count": null,
      "metadata": {
        "id": "ucbu6Lbsy_BX",
        "outputId": "865b87b5-d33f-403e-aae5-e0bac8766ac6"
      },
      "outputs": [
        {
          "data": {
            "text/plain": [
              "array([1, 2, 3])"
            ]
          },
          "execution_count": 53,
          "metadata": {},
          "output_type": "execute_result"
        }
      ],
      "source": []
    },
    {
      "cell_type": "markdown",
      "metadata": {
        "id": "_xqr2quOy_BX"
      },
      "source": [
        "Let x = [1, 2]. Convert it into an array."
      ]
    },
    {
      "cell_type": "code",
      "execution_count": null,
      "metadata": {
        "id": "-llb0KvOy_BX",
        "outputId": "2df3e0ef-e878-438e-b442-7e68154710d6"
      },
      "outputs": [
        {
          "data": {
            "text/plain": [
              "array([1, 2])"
            ]
          },
          "execution_count": 60,
          "metadata": {},
          "output_type": "execute_result"
        }
      ],
      "source": [
        "x = [1,2]\n"
      ]
    },
    {
      "cell_type": "markdown",
      "metadata": {
        "id": "tE8xG6h1y_BY"
      },
      "source": [
        "Let X = np.array([[1, 2], [3, 4]]). Convert it into a matrix."
      ]
    },
    {
      "cell_type": "code",
      "execution_count": null,
      "metadata": {
        "id": "E8DFrnF8y_BY",
        "outputId": "8f785abb-9a31-43f5-9b2a-14658279a428"
      },
      "outputs": [
        {
          "data": {
            "text/plain": [
              "matrix([[1, 2],\n",
              "        [3, 4]])"
            ]
          },
          "execution_count": 62,
          "metadata": {},
          "output_type": "execute_result"
        }
      ],
      "source": [
        "X = np.array([[1, 2], [3, 4]])\n"
      ]
    },
    {
      "cell_type": "markdown",
      "metadata": {
        "id": "lDq9Mywhy_BZ"
      },
      "source": [
        "Let x = [1, 2]. Conver it into an array of `float`."
      ]
    },
    {
      "cell_type": "code",
      "execution_count": null,
      "metadata": {
        "id": "r8_hUEeoy_BZ",
        "outputId": "5fff243a-59d0-4ff9-fd0a-58c22b182e51"
      },
      "outputs": [
        {
          "data": {
            "text/plain": [
              "array([ 1.,  2.])"
            ]
          },
          "execution_count": 63,
          "metadata": {},
          "output_type": "execute_result"
        }
      ],
      "source": [
        "x = [1, 2]\n"
      ]
    },
    {
      "cell_type": "markdown",
      "metadata": {
        "id": "Yvh2fV8jy_Ba"
      },
      "source": [
        "Let x = np.array([30]). Convert it into scalar of its single element, i.e. 30."
      ]
    },
    {
      "cell_type": "code",
      "execution_count": null,
      "metadata": {
        "id": "u3F3j-Gny_Ba",
        "outputId": "718439d2-8c70-41c8-f2f3-4a36eb52c4d9"
      },
      "outputs": [
        {
          "data": {
            "text/plain": [
              "30"
            ]
          },
          "execution_count": 67,
          "metadata": {},
          "output_type": "execute_result"
        }
      ],
      "source": [
        "x = np.array([30])\n"
      ]
    },
    {
      "cell_type": "markdown",
      "metadata": {
        "id": "ti-igQlGy_Bb"
      },
      "source": [
        "Let x = np.array([1, 2, 3]). Create a array copy of x, which has a different id from x."
      ]
    },
    {
      "cell_type": "code",
      "execution_count": null,
      "metadata": {
        "id": "kU7GaO0Sy_Bb",
        "outputId": "e3841df9-7af5-4f91-9977-e886ae9d8552"
      },
      "outputs": [
        {
          "name": "stdout",
          "output_type": "stream",
          "text": [
            "70140352 [1 2 3]\n",
            "70140752 [1 2 3]\n"
          ]
        }
      ],
      "source": [
        "x = np.array([1, 2, 3])\n"
      ]
    },
    {
      "cell_type": "markdown",
      "metadata": {
        "id": "iK4r7IWyy_Bb"
      },
      "source": [
        "## Numerical ranges"
      ]
    },
    {
      "cell_type": "markdown",
      "metadata": {
        "id": "ZbOOnQ5zy_Bc"
      },
      "source": [
        "Create an array of 2, 4, 6, 8, ..., 100."
      ]
    },
    {
      "cell_type": "code",
      "execution_count": null,
      "metadata": {
        "id": "u5dwuEVty_Bc",
        "outputId": "0b1a981c-69b3-4eb9-adc1-cc919667f992"
      },
      "outputs": [
        {
          "data": {
            "text/plain": [
              "array([  2,   4,   6,   8,  10,  12,  14,  16,  18,  20,  22,  24,  26,\n",
              "        28,  30,  32,  34,  36,  38,  40,  42,  44,  46,  48,  50,  52,\n",
              "        54,  56,  58,  60,  62,  64,  66,  68,  70,  72,  74,  76,  78,\n",
              "        80,  82,  84,  86,  88,  90,  92,  94,  96,  98, 100])"
            ]
          },
          "execution_count": 85,
          "metadata": {},
          "output_type": "execute_result"
        }
      ],
      "source": []
    },
    {
      "cell_type": "markdown",
      "metadata": {
        "id": "F1ZO35nEy_Bc"
      },
      "source": [
        "Create a 1-D array of 50 evenly spaced elements between 3. and 10., inclusive."
      ]
    },
    {
      "cell_type": "code",
      "execution_count": null,
      "metadata": {
        "id": "18FNkcNTy_Bi",
        "outputId": "35191b3c-f8b4-4aa7-8cfc-b4023ffb197d"
      },
      "outputs": [
        {
          "data": {
            "text/plain": [
              "array([  3.        ,   3.14285714,   3.28571429,   3.42857143,\n",
              "         3.57142857,   3.71428571,   3.85714286,   4.        ,\n",
              "         4.14285714,   4.28571429,   4.42857143,   4.57142857,\n",
              "         4.71428571,   4.85714286,   5.        ,   5.14285714,\n",
              "         5.28571429,   5.42857143,   5.57142857,   5.71428571,\n",
              "         5.85714286,   6.        ,   6.14285714,   6.28571429,\n",
              "         6.42857143,   6.57142857,   6.71428571,   6.85714286,\n",
              "         7.        ,   7.14285714,   7.28571429,   7.42857143,\n",
              "         7.57142857,   7.71428571,   7.85714286,   8.        ,\n",
              "         8.14285714,   8.28571429,   8.42857143,   8.57142857,\n",
              "         8.71428571,   8.85714286,   9.        ,   9.14285714,\n",
              "         9.28571429,   9.42857143,   9.57142857,   9.71428571,\n",
              "         9.85714286,  10.        ])"
            ]
          },
          "execution_count": 86,
          "metadata": {},
          "output_type": "execute_result"
        }
      ],
      "source": []
    },
    {
      "cell_type": "markdown",
      "metadata": {
        "id": "wXDB6tPjy_Bi"
      },
      "source": [
        "Create a 1-D array of 50 element spaced evenly on a log scale between 3. and 10., exclusive."
      ]
    },
    {
      "cell_type": "code",
      "execution_count": null,
      "metadata": {
        "id": "noMJgvt6y_Bj",
        "outputId": "0e08bdf4-fcba-40e8-c6c5-3d9c8f5bcdf3"
      },
      "outputs": [
        {
          "data": {
            "text/plain": [
              "array([  1.00000000e+03,   1.38038426e+03,   1.90546072e+03,\n",
              "         2.63026799e+03,   3.63078055e+03,   5.01187234e+03,\n",
              "         6.91830971e+03,   9.54992586e+03,   1.31825674e+04,\n",
              "         1.81970086e+04,   2.51188643e+04,   3.46736850e+04,\n",
              "         4.78630092e+04,   6.60693448e+04,   9.12010839e+04,\n",
              "         1.25892541e+05,   1.73780083e+05,   2.39883292e+05,\n",
              "         3.31131121e+05,   4.57088190e+05,   6.30957344e+05,\n",
              "         8.70963590e+05,   1.20226443e+06,   1.65958691e+06,\n",
              "         2.29086765e+06,   3.16227766e+06,   4.36515832e+06,\n",
              "         6.02559586e+06,   8.31763771e+06,   1.14815362e+07,\n",
              "         1.58489319e+07,   2.18776162e+07,   3.01995172e+07,\n",
              "         4.16869383e+07,   5.75439937e+07,   7.94328235e+07,\n",
              "         1.09647820e+08,   1.51356125e+08,   2.08929613e+08,\n",
              "         2.88403150e+08,   3.98107171e+08,   5.49540874e+08,\n",
              "         7.58577575e+08,   1.04712855e+09,   1.44543977e+09,\n",
              "         1.99526231e+09,   2.75422870e+09,   3.80189396e+09,\n",
              "         5.24807460e+09,   7.24435960e+09])"
            ]
          },
          "execution_count": 88,
          "metadata": {},
          "output_type": "execute_result"
        }
      ],
      "source": []
    },
    {
      "cell_type": "markdown",
      "metadata": {
        "id": "SR_N888Cy_Bj"
      },
      "source": [
        "## Building matrices"
      ]
    },
    {
      "cell_type": "markdown",
      "metadata": {
        "id": "KZOvNuLZy_Bj"
      },
      "source": [
        "Let X = np.array([[ 0,  1,  2,  3],\n",
        "                  [ 4,  5,  6,  7],\n",
        "                 [ 8,  9, 10, 11]]).\n",
        "                 Get the diagonal of X, that is, [0, 5, 10]."
      ]
    },
    {
      "cell_type": "code",
      "execution_count": null,
      "metadata": {
        "id": "iAV6A60Ry_Bj",
        "outputId": "372f661a-c7ea-4b84-f686-95ca7e2ffa7e"
      },
      "outputs": [
        {
          "data": {
            "text/plain": [
              "array([ 0,  5, 10])"
            ]
          },
          "execution_count": 93,
          "metadata": {},
          "output_type": "execute_result"
        }
      ],
      "source": [
        "X = np.array([[ 0, 1, 2, 3], [ 4, 5, 6, 7], [ 8, 9, 10, 11]])\n"
      ]
    },
    {
      "cell_type": "markdown",
      "metadata": {
        "id": "kohN7oeqy_Bk"
      },
      "source": [
        "Create a 2-D array whose diagonal equals [1, 2, 3, 4] and 0's elsewhere."
      ]
    },
    {
      "cell_type": "code",
      "execution_count": null,
      "metadata": {
        "id": "ALrzYSVGy_Bk",
        "outputId": "c35cdb68-7147-4da5-fd65-d43e53453616"
      },
      "outputs": [
        {
          "data": {
            "text/plain": [
              "array([[1, 0, 0, 0],\n",
              "       [0, 2, 0, 0],\n",
              "       [0, 0, 3, 0],\n",
              "       [0, 0, 0, 4]])"
            ]
          },
          "execution_count": 95,
          "metadata": {},
          "output_type": "execute_result"
        }
      ],
      "source": []
    },
    {
      "cell_type": "markdown",
      "metadata": {
        "id": "GzaNEBMPy_Bk"
      },
      "source": [
        "Create an array which looks like below.\n",
        "array([[ 0.,  0.,  0.,  0.,  0.],\n",
        "       [ 1.,  0.,  0.,  0.,  0.],\n",
        "       [ 1.,  1.,  0.,  0.,  0.]])"
      ]
    },
    {
      "cell_type": "code",
      "execution_count": null,
      "metadata": {
        "id": "jTcgG3Fmy_Bk",
        "outputId": "d5cd37fe-f57a-4d42-d60a-583a266d86e4"
      },
      "outputs": [
        {
          "data": {
            "text/plain": [
              "array([[ 0.,  0.,  0.,  0.,  0.],\n",
              "       [ 1.,  0.,  0.,  0.,  0.],\n",
              "       [ 1.,  1.,  0.,  0.,  0.]])"
            ]
          },
          "execution_count": 97,
          "metadata": {},
          "output_type": "execute_result"
        }
      ],
      "source": []
    },
    {
      "cell_type": "markdown",
      "metadata": {
        "id": "DGJM7hoIy_Bl"
      },
      "source": [
        "Create an array which looks like below.\n",
        "array([[ 0,  0,  0],\n",
        "       [ 4,  0,  0],\n",
        "       [ 7,  8,  0],\n",
        "       [10, 11, 12]])"
      ]
    },
    {
      "cell_type": "code",
      "execution_count": null,
      "metadata": {
        "id": "VXzPQOKCy_Bl",
        "outputId": "800c50db-cbd8-47f1-e256-b41b898640db"
      },
      "outputs": [
        {
          "data": {
            "text/plain": [
              "array([[ 0,  0,  0],\n",
              "       [ 4,  0,  0],\n",
              "       [ 7,  8,  0],\n",
              "       [10, 11, 12]])"
            ]
          },
          "execution_count": 101,
          "metadata": {},
          "output_type": "execute_result"
        }
      ],
      "source": []
    },
    {
      "cell_type": "markdown",
      "metadata": {
        "id": "MTfcCILny_Bl"
      },
      "source": [
        "Create an array which looks like below. array([[ 1,  2,  3],\n",
        "       [ 4,  5,  6],\n",
        "       [ 0,  8,  9],\n",
        "       [ 0,  0, 12]])"
      ]
    },
    {
      "cell_type": "code",
      "execution_count": null,
      "metadata": {
        "id": "dJ_6enary_Bl",
        "outputId": "4adfe031-98f9-4a53-bedf-de14d5b7682d"
      },
      "outputs": [
        {
          "data": {
            "text/plain": [
              "array([[ 1,  2,  3],\n",
              "       [ 4,  5,  6],\n",
              "       [ 0,  8,  9],\n",
              "       [ 0,  0, 12]])"
            ]
          },
          "execution_count": 102,
          "metadata": {},
          "output_type": "execute_result"
        }
      ],
      "source": []
    }
  ],
  "metadata": {
    "kernelspec": {
      "display_name": "Python 2",
      "language": "python",
      "name": "python2"
    },
    "language_info": {
      "codemirror_mode": {
        "name": "ipython",
        "version": 2
      },
      "file_extension": ".py",
      "mimetype": "text/x-python",
      "name": "python",
      "nbconvert_exporter": "python",
      "pygments_lexer": "ipython2",
      "version": "2.7.6"
    },
    "colab": {
      "provenance": []
    }
  },
  "nbformat": 4,
  "nbformat_minor": 0
}