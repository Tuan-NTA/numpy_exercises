{
  "cells": [
    {
      "cell_type": "markdown",
      "metadata": {
        "id": "view-in-github",
        "colab_type": "text"
      },
      "source": [
        "<a href=\"https://colab.research.google.com/github/Tuan-NTA/numpy_exercises/blob/master/10_Random_sampling.ipynb\" target=\"_parent\"><img src=\"https://colab.research.google.com/assets/colab-badge.svg\" alt=\"Open In Colab\"/></a>"
      ]
    },
    {
      "cell_type": "markdown",
      "metadata": {
        "id": "3UDDkN1hTEKQ"
      },
      "source": [
        "# Random Sampling"
      ]
    },
    {
      "cell_type": "markdown",
      "source": [],
      "metadata": {
        "id": "aSKOlci4T2N8"
      }
    },
    {
      "cell_type": "code",
      "execution_count": 1,
      "metadata": {
        "collapsed": true,
        "id": "MV0iM2fXTEKR"
      },
      "outputs": [],
      "source": [
        "import numpy as np"
      ]
    },
    {
      "cell_type": "code",
      "execution_count": 2,
      "metadata": {
        "id": "xlXhykXZTEKS",
        "outputId": "3b543690-093a-4cb9-b199-d90962f14885",
        "colab": {
          "base_uri": "https://localhost:8080/",
          "height": 35
        }
      },
      "outputs": [
        {
          "output_type": "execute_result",
          "data": {
            "text/plain": [
              "'1.25.2'"
            ],
            "application/vnd.google.colaboratory.intrinsic+json": {
              "type": "string"
            }
          },
          "metadata": {},
          "execution_count": 2
        }
      ],
      "source": [
        "np.__version__"
      ]
    },
    {
      "cell_type": "code",
      "execution_count": 3,
      "metadata": {
        "id": "qpr7mb4kTEKS"
      },
      "outputs": [],
      "source": [
        "__author__ = 'kyubyong. longinglove@nate.com'"
      ]
    },
    {
      "cell_type": "markdown",
      "metadata": {
        "id": "StDpKS5rTEKS"
      },
      "source": [
        "## Simple random data"
      ]
    },
    {
      "cell_type": "markdown",
      "metadata": {
        "id": "438LHI7wTEKS"
      },
      "source": [
        "Q1. Create an array of shape (3, 2) and populate it with random samples from a uniform distribution over [0, 1)."
      ]
    },
    {
      "cell_type": "code",
      "execution_count": 4,
      "metadata": {
        "id": "2jgJ8bfxTEKT",
        "outputId": "19209aa1-d2cb-4853-b21f-cd26f6bcbefc",
        "colab": {
          "base_uri": "https://localhost:8080/"
        }
      },
      "outputs": [
        {
          "output_type": "execute_result",
          "data": {
            "text/plain": [
              "array([[0.44973262, 0.20192478],\n",
              "       [0.88800608, 0.50218322],\n",
              "       [0.16239423, 0.57113706]])"
            ]
          },
          "metadata": {},
          "execution_count": 4
        }
      ],
      "source": [
        "np.random.rand(3, 2)\n",
        "# Or np.random.random((3,2))"
      ]
    },
    {
      "cell_type": "markdown",
      "metadata": {
        "id": "UULK_Qg6TEKT"
      },
      "source": [
        "Q2. Create an array of shape (1000, 1000) and populate it with random samples from a standard normal distribution. And verify that the mean and standard deviation is close enough to 0 and 1 repectively."
      ]
    },
    {
      "cell_type": "code",
      "execution_count": 5,
      "metadata": {
        "id": "iH0crU22TEKT",
        "outputId": "82771d61-fdf0-4cb2-a9fa-c7371952469c",
        "colab": {
          "base_uri": "https://localhost:8080/"
        }
      },
      "outputs": [
        {
          "output_type": "stream",
          "name": "stdout",
          "text": [
            "-0.0022732807185111437\n",
            "1.0005348176435038\n"
          ]
        }
      ],
      "source": [
        "out1 = np.random.randn(1000, 1000)\n",
        "out2 = np.random.standard_normal((1000, 1000))\n",
        "out3 = np.random.normal(loc=0.0, scale=1.0, size=(1000, 1000))\n",
        "assert np.allclose(np.mean(out1), np.mean(out2), atol=0.1)\n",
        "assert np.allclose(np.mean(out1), np.mean(out3), atol=0.1)\n",
        "assert np.allclose(np.std(out1), np.std(out2), atol=0.1)\n",
        "assert np.allclose(np.std(out1), np.std(out3), atol=0.1)\n",
        "print (np.mean(out3))\n",
        "print (np.std(out1))\n"
      ]
    },
    {
      "cell_type": "markdown",
      "metadata": {
        "id": "X63lz-iWTEKT"
      },
      "source": [
        "Q3. Create an array of shape (3, 2) and populate it with random integers ranging from 0 to 3 (inclusive) from a discrete uniform distribution."
      ]
    },
    {
      "cell_type": "code",
      "execution_count": 6,
      "metadata": {
        "id": "O0_TtaDiTEKT",
        "outputId": "ca70f24a-6d5c-48f7-d953-d2651fea24ff",
        "colab": {
          "base_uri": "https://localhost:8080/"
        }
      },
      "outputs": [
        {
          "output_type": "execute_result",
          "data": {
            "text/plain": [
              "array([[1, 0],\n",
              "       [3, 3],\n",
              "       [2, 0]])"
            ]
          },
          "metadata": {},
          "execution_count": 6
        }
      ],
      "source": [
        "np.random.randint(0, 4, (3, 2))"
      ]
    },
    {
      "cell_type": "markdown",
      "metadata": {
        "id": "Su5AzWiWTEKT"
      },
      "source": [
        "Q4. Extract 1 elements from x randomly such that each of them would be associated with probabilities .3, .5, .2. Then print the result 10 times."
      ]
    },
    {
      "cell_type": "code",
      "execution_count": 7,
      "metadata": {
        "collapsed": true,
        "id": "O_io_w9UTEKT"
      },
      "outputs": [],
      "source": [
        "x = [b'3 out of 10', b'5 out of 10', b'2 out of 10']"
      ]
    },
    {
      "cell_type": "code",
      "execution_count": 8,
      "metadata": {
        "id": "PLdinAZBTEKT",
        "outputId": "9a6eb038-0d46-425e-a81d-2e7d87f1573e",
        "colab": {
          "base_uri": "https://localhost:8080/"
        }
      },
      "outputs": [
        {
          "output_type": "stream",
          "name": "stdout",
          "text": [
            "b'3 out of 10'\n",
            "b'3 out of 10'\n",
            "b'5 out of 10'\n",
            "b'3 out of 10'\n",
            "b'5 out of 10'\n",
            "b'3 out of 10'\n",
            "b'3 out of 10'\n",
            "b'3 out of 10'\n",
            "b'3 out of 10'\n",
            "b'5 out of 10'\n"
          ]
        }
      ],
      "source": [
        "for _ in range(10):\n",
        "    print (np.random.choice(x, p=[.3, .5, .2]))"
      ]
    },
    {
      "cell_type": "markdown",
      "metadata": {
        "id": "8DvK_TVLTEKU"
      },
      "source": [
        "Q5. Extract 3 different integers from 0 to 9 randomly with the same probabilities."
      ]
    },
    {
      "cell_type": "code",
      "execution_count": 9,
      "metadata": {
        "id": "OOi-L3wLTEKU",
        "outputId": "6b4fe959-a2b3-4afa-9cc4-dcfb84ebe1e9",
        "colab": {
          "base_uri": "https://localhost:8080/"
        }
      },
      "outputs": [
        {
          "output_type": "execute_result",
          "data": {
            "text/plain": [
              "array([6, 3, 5])"
            ]
          },
          "metadata": {},
          "execution_count": 9
        }
      ],
      "source": [
        "np.random.choice(10, 3, replace=False)"
      ]
    },
    {
      "cell_type": "markdown",
      "metadata": {
        "id": "fGsBAULfTEKU"
      },
      "source": [
        "## Permutations"
      ]
    },
    {
      "cell_type": "markdown",
      "metadata": {
        "id": "7QPzXLXWTEKU"
      },
      "source": [
        "Q6. Shuffle numbers between 0 and 9 (inclusive)."
      ]
    },
    {
      "cell_type": "code",
      "execution_count": 10,
      "metadata": {
        "id": "vOSkQ5ctTEKU",
        "outputId": "b3c61a66-09f8-42f8-8cf4-795293726722",
        "colab": {
          "base_uri": "https://localhost:8080/"
        }
      },
      "outputs": [
        {
          "output_type": "stream",
          "name": "stdout",
          "text": [
            "[2 1 4 3 5 6 0 8 9 7]\n"
          ]
        }
      ],
      "source": [
        "x = np.arange(10)\n",
        "np.random.shuffle(x)\n",
        "print (x)"
      ]
    },
    {
      "cell_type": "code",
      "execution_count": 11,
      "metadata": {
        "id": "hQikPcZCTEKU",
        "outputId": "bbefc485-49a0-43bd-bef9-88a8826e634c",
        "colab": {
          "base_uri": "https://localhost:8080/"
        }
      },
      "outputs": [
        {
          "output_type": "stream",
          "name": "stdout",
          "text": [
            "[3 5 6 9 2 4 0 1 8 7]\n"
          ]
        }
      ],
      "source": [
        "# Or\n",
        "print (np.random.permutation(10))"
      ]
    },
    {
      "cell_type": "markdown",
      "metadata": {
        "id": "b4uy8WTETEKU"
      },
      "source": [
        "## Random generator"
      ]
    },
    {
      "cell_type": "markdown",
      "metadata": {
        "id": "AZwnSthyTEKU"
      },
      "source": [
        "Q7. Assign number 10 to the seed of the random generator so that you can get the same value next time."
      ]
    },
    {
      "cell_type": "code",
      "execution_count": 12,
      "metadata": {
        "collapsed": true,
        "id": "XVgU0imGTEKU"
      },
      "outputs": [],
      "source": [
        "np.random.seed(10)"
      ]
    }
  ],
  "metadata": {
    "kernelspec": {
      "display_name": "Python 2",
      "language": "python",
      "name": "python2"
    },
    "language_info": {
      "codemirror_mode": {
        "name": "ipython",
        "version": 2
      },
      "file_extension": ".py",
      "mimetype": "text/x-python",
      "name": "python",
      "nbconvert_exporter": "python",
      "pygments_lexer": "ipython2",
      "version": "2.7.10"
    },
    "colab": {
      "provenance": [],
      "include_colab_link": true
    }
  },
  "nbformat": 4,
  "nbformat_minor": 0
}